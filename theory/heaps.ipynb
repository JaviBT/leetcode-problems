{
 "cells": [
  {
   "cell_type": "markdown",
   "metadata": {},
   "source": [
    "# Heaps and Priority Queues\n",
    "\n",
    "This notebook is dedicated to heaps and priority queues."
   ]
  },
  {
   "cell_type": "markdown",
   "metadata": {},
   "source": [
    "## Min-Heap"
   ]
  },
  {
   "cell_type": "code",
   "execution_count": 19,
   "metadata": {},
   "outputs": [],
   "source": [
    "class MinHeap:\n",
    "    def __init__(self, nums=[]):\n",
    "        self.heap = []\n",
    "        self.heapify(nums)\n",
    "\n",
    "    def _siftup(self, i): # O(log(n))\n",
    "        while i > 0:\n",
    "            parent = (i - 1) // 2\n",
    "            if self.heap[i] < self.heap[parent]:\n",
    "                self.heap[i], self.heap[parent] = self.heap[parent], self.heap[i]\n",
    "                i = parent\n",
    "            else: break\n",
    "\n",
    "    def _siftdown(self, i): # O(log(n))\n",
    "        left, right = 2*i+1, 2*i+2\n",
    "        while (left < len(self.heap) and self.heap[left] < self.heap[i]) or (right < len(self.heap) and self.heap[right] < self.heap[i]):\n",
    "            smallest_child_i = left if (right >= len(self.heap) or self.heap[left] <= self.heap[right]) else right\n",
    "            self.heap[i], self.heap[smallest_child_i] = self.heap[smallest_child_i], self.heap[i]\n",
    "            i = smallest_child_i\n",
    "            left, right = 2*i+1, 2*i+2\n",
    "\n",
    "    def append(self, num): # O(log(n))\n",
    "        self.heap.append(num)\n",
    "        self._siftup(len(self.heap) - 1)\n",
    "\n",
    "    def getMin(self): # O(1)\n",
    "        return self.heap[0] if self.heap else None\n",
    "    \n",
    "    def pop(self): # O(log(n))\n",
    "        if not self.heap: return None\n",
    "        self.heap[0], popped = self.heap[len(self.heap) - 1], self.heap[0]\n",
    "        self.heap.pop()\n",
    "        self._siftdown(0)\n",
    "        return popped\n",
    "    \n",
    "    def update(self, i, newVal, loop=False): # O(log(n))\n",
    "        if 0 > i >= len(self.heap):\n",
    "            if loop: i = i % len(self.heap)\n",
    "            else: return\n",
    "        self.heap[i], val = newVal, self.heap[i]\n",
    "        if val <= newVal: self._siftdown(i)\n",
    "        else: self._siftup(i)\n",
    "\n",
    "    def heapify(self, nums): # O(n) with sift down and O(nlog(n)) with sift up\n",
    "        self.heap = nums.copy()\n",
    "        for i in range(len(self.heap))[::-1]:\n",
    "            self._siftdown(i)\n",
    "\n",
    "    def heapSort(self, nums): # O(nlog(n))\n",
    "        self.heapify(nums)\n",
    "        return [self.pop() for _ in range(len(self.heap))]"
   ]
  },
  {
   "cell_type": "markdown",
   "metadata": {},
   "source": [
    "## Testing the Min-Heap"
   ]
  },
  {
   "cell_type": "code",
   "execution_count": 22,
   "metadata": {},
   "outputs": [
    {
     "name": "stdout",
     "output_type": "stream",
     "text": [
      "Heap: [1, 2, 3, 5, 6, 4]\n",
      "Min: 1\n",
      "Heap after appending 0: [0, 2, 1, 5, 6, 4, 3]\n",
      "None\n",
      "Heap after updating index 2 to 7: [0, 2, 3, 5, 6, 4, 7]\n",
      "nums sorted: [1, 2, 3, 4, 5, 6]\n"
     ]
    }
   ],
   "source": [
    "# Test the MinHeap class\n",
    "nums = [3, 2, 1, 5, 6, 4]\n",
    "heap = MinHeap(nums)\n",
    "\n",
    "print(f'Heap: {heap.heap}')\n",
    "print(f'Min: {heap.getMin()}')\n",
    "\n",
    "heap.append(0)\n",
    "print(f'Heap after appending 0: {heap.heap}')\n",
    "\n",
    "print(heap.update(2, 7))\n",
    "print(f'Heap after updating index 2 to 7: {heap.heap}')\n",
    "\n",
    "print(f'nums sorted: {heap.heapSort(nums)}')"
   ]
  },
  {
   "cell_type": "code",
   "execution_count": null,
   "metadata": {},
   "outputs": [],
   "source": []
  }
 ],
 "metadata": {
  "kernelspec": {
   "display_name": "Python 3",
   "language": "python",
   "name": "python3"
  },
  "language_info": {
   "codemirror_mode": {
    "name": "ipython",
    "version": 3
   },
   "file_extension": ".py",
   "mimetype": "text/x-python",
   "name": "python",
   "nbconvert_exporter": "python",
   "pygments_lexer": "ipython3",
   "version": "3.12.0"
  }
 },
 "nbformat": 4,
 "nbformat_minor": 2
}
