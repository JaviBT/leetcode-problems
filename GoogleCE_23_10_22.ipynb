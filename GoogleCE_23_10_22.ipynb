{
 "cells": [
  {
   "cell_type": "code",
   "execution_count": 1,
   "metadata": {},
   "outputs": [
    {
     "name": "stdout",
     "output_type": "stream",
     "text": [
      "Hello Google!\n"
     ]
    }
   ],
   "source": [
    "print(\"Hello Google!\")"
   ]
  },
  {
   "cell_type": "code",
   "execution_count": 8,
   "metadata": {},
   "outputs": [],
   "source": [
    "# Practice 1:\n",
    "def practice1(A):\n",
    "  \"\"\"Your solution goes here.\"\"\"\n",
    "  N = 0\n",
    "  currentMax = 0\n",
    "  for height in A:\n",
    "    if height >= currentMax:\n",
    "      N += 1\n",
    "      currentMax = height\n",
    "  return N"
   ]
  },
  {
   "cell_type": "code",
   "execution_count": 9,
   "metadata": {},
   "outputs": [],
   "source": [
    "# Practice 2:\n",
    "def practice2(A):\n",
    "  \"\"\"Your solution goes here.\"\"\"\n",
    "  sys.stderr.write('Tip: Use sys.stderr.write() to write debug messages on the output tab.\\n')\n",
    "  A.sort()\n",
    "  A.reverse()\n",
    "  # If we assign them in reverse order while trying to minimize load diff we will get the correct solution\n",
    "  dif = 0\n",
    "  A_load = 0\n",
    "  B_load = 0\n",
    "  for load in A:\n",
    "    if A_load <= B_load:\n",
    "      A_load += load\n",
    "    else:\n",
    "      B_load += load\n",
    "    \n",
    "  return abs(A_load - B_load)"
   ]
  },
  {
   "cell_type": "code",
   "execution_count": 40,
   "metadata": {},
   "outputs": [
    {
     "data": {
      "text/plain": [
       "5"
      ]
     },
     "execution_count": 40,
     "metadata": {},
     "output_type": "execute_result"
    }
   ],
   "source": [
    "# Exerciese 1:\n",
    "def solution1(S):\n",
    "    current_inserts = 0\n",
    "    if S[0] == \"b\":\n",
    "        current_inserts += 1\n",
    "    elif S[0] == \"c\":\n",
    "        current_inserts += 2\n",
    "\n",
    "    letter = \"a\"\n",
    "    for i in range(len(S)-1):\n",
    "        if S[i] == \"a\":\n",
    "            if S[i+1] == \"a\":\n",
    "                current_inserts += 2\n",
    "            elif S[i+1] == \"c\":\n",
    "                current_inserts += 1\n",
    "        elif S[i] == \"b\":\n",
    "            if S[i+1] == \"b\":\n",
    "                current_inserts += 2\n",
    "            elif S[i+1] == \"a\":\n",
    "                current_inserts += 1\n",
    "        elif S[i] == \"c\":\n",
    "            if S[i+1] == \"c\":\n",
    "                current_inserts += 2\n",
    "            elif S[i+1] == \"b\":\n",
    "                current_inserts += 1\n",
    "\n",
    "    return current_inserts\n",
    "\n",
    "S = \"bcaaa\"\n",
    "solution1(S)\n"
   ]
  },
  {
   "cell_type": "code",
   "execution_count": 38,
   "metadata": {},
   "outputs": [
    {
     "name": "stdout",
     "output_type": "stream",
     "text": [
      "[911, 1000, 2]\n"
     ]
    },
    {
     "data": {
      "text/plain": [
       "89"
      ]
     },
     "execution_count": 38,
     "metadata": {},
     "output_type": "execute_result"
    }
   ],
   "source": [
    "# Exerciese 2:\n",
    "def solution2(A):\n",
    "    # We remove all the elements that only appear once\n",
    "    A_good = []\n",
    "    for i in range(len(A)):\n",
    "        if A.count(A[i]) > 1 and A[i] not in A_good:\n",
    "            A_good.append(A[i])\n",
    "            if A.count(A[i]) >= 4:\n",
    "                A_good.append(A[i])\n",
    "\n",
    "    print(A_good)\n",
    "\n",
    "    if len(A_good) < 2:\n",
    "        return -1\n",
    "\n",
    "    min_diff = -1\n",
    "    for i in range(len(A_good)):\n",
    "        for j in range(i+1, len(A_good)):\n",
    "            if abs(A_good[i] - A_good[j]) < min_diff or min_diff == -1:\n",
    "                min_diff = abs(A_good[i] - A_good[j])\n",
    "\n",
    "    return min_diff\n",
    "\n",
    "A = [911, 1, 3, 1000, 1000, 2, 2, 999, 1000, 911]\n",
    "solution2(A)\n"
   ]
  }
 ],
 "metadata": {
  "kernelspec": {
   "display_name": "Python 3.10.7 64-bit",
   "language": "python",
   "name": "python3"
  },
  "language_info": {
   "codemirror_mode": {
    "name": "ipython",
    "version": 3
   },
   "file_extension": ".py",
   "mimetype": "text/x-python",
   "name": "python",
   "nbconvert_exporter": "python",
   "pygments_lexer": "ipython3",
   "version": "3.10.7"
  },
  "orig_nbformat": 4,
  "vscode": {
   "interpreter": {
    "hash": "44a9cdcbdccbf05a880e90d2e6fe72470baab4d1b82472d890be0596ed887a6b"
   }
  }
 },
 "nbformat": 4,
 "nbformat_minor": 2
}
